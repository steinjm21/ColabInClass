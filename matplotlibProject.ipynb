{
  "nbformat": 4,
  "nbformat_minor": 0,
  "metadata": {
    "colab": {
      "provenance": [],
      "authorship_tag": "ABX9TyPNxkxKx32IjKX/eJrhfPmG",
      "include_colab_link": true
    },
    "kernelspec": {
      "name": "python3",
      "display_name": "Python 3"
    },
    "language_info": {
      "name": "python"
    }
  },
  "cells": [
    {
      "cell_type": "markdown",
      "metadata": {
        "id": "view-in-github",
        "colab_type": "text"
      },
      "source": [
        "<a href=\"https://colab.research.google.com/github/steinjm21/ColabInClass/blob/main/matplotlibProject.ipynb\" target=\"_parent\"><img src=\"https://colab.research.google.com/assets/colab-badge.svg\" alt=\"Open In Colab\"/></a>"
      ]
    },
    {
      "cell_type": "code",
      "source": [
        "!git clone https://github.com/steinjm21/matplotlibProject.git"
      ],
      "metadata": {
        "colab": {
          "base_uri": "https://localhost:8080/"
        },
        "id": "P1jOd8w_BRtZ",
        "outputId": "d9b536a3-067c-4a2b-bb42-8a37b9523eb5"
      },
      "execution_count": 10,
      "outputs": [
        {
          "output_type": "stream",
          "name": "stdout",
          "text": [
            "fatal: destination path 'matplotlibProject' already exists and is not an empty directory.\n"
          ]
        }
      ]
    },
    {
      "cell_type": "markdown",
      "source": [
        "Defining function to be outputted to .csv"
      ],
      "metadata": {
        "id": "SoSlBqGUQSNl"
      }
    },
    {
      "cell_type": "code",
      "execution_count": 22,
      "metadata": {
        "id": "yq8Kjsub_hRl"
      },
      "outputs": [],
      "source": [
        "import numpy as np\n",
        "import sys\n",
        "import datetime\n",
        "import math"
      ]
    },
    {
      "cell_type": "code",
      "source": [
        "def inside_circle(total_count):\n",
        "    x = np.random.uniform(size=total_count)\n",
        "    y = np.random.uniform(size=total_count)\n",
        "    radii = np.sqrt(x*x + y*y)\n",
        "    count = len(radii[np.where(radii<=1.0)])\n",
        "    return count"
      ],
      "metadata": {
        "id": "Q-t0hGHzAXYZ"
      },
      "execution_count": 23,
      "outputs": []
    },
    {
      "cell_type": "markdown",
      "source": [
        "I found using np.empty and np.vstack to be more efficient (it actually worked) with the code I had written and tried to painstakingly edit for hours."
      ],
      "metadata": {
        "id": "CfwVaeE-l2NK"
      }
    },
    {
      "cell_type": "code",
      "source": [
        "if __name__ == '__main__':\n",
        "    grid = np.empty((0, 4))\n",
        "    for n in range(100, 15001):\n",
        "      n_samples = int(n)\n",
        "      start_time = datetime.datetime.now()\n",
        "      counts = inside_circle(n_samples)\n",
        "      my_pi = 4.0 * counts / n_samples\n",
        "      end_time = datetime.datetime.now()\n",
        "      elapsed_time = (end_time - start_time).total_seconds()\n",
        "      size_of_float = np.dtype(np.float64).itemsize\n",
        "      memory_required = 3 * n_samples * size_of_float / (1024**3)\n",
        "      abs_err = abs(my_pi - math.pi)\n",
        "      rel_err = abs(abs_err / math.pi) / abs(math.pi)\n",
        "      grid = np.vstack([grid, [n_samples, rel_err, memory_required, elapsed_time]])\n",
        "    print(\"# of Samples: {}, Pi: {}, memory: {} GiB, time: {} s\".format(\n",
        "          n_samples, my_pi, memory_required, elapsed_time))\n",
        "    np.savetxt('matplotlibProject.csv', grid, delimiter=',')"
      ],
      "metadata": {
        "colab": {
          "base_uri": "https://localhost:8080/"
        },
        "id": "ONc5zm7aBnKY",
        "outputId": "d88ac720-1e62-4498-bbed-d770c220c4b6"
      },
      "execution_count": 37,
      "outputs": [
        {
          "output_type": "stream",
          "name": "stdout",
          "text": [
            "# of Samples: 14999, Pi: 3.1335422361490766, memory: 0.0003352537751197815 GiB, time: 0.000437 s\n"
          ]
        }
      ]
    },
    {
      "cell_type": "code",
      "source": [
        "data = np.loadtxt(fname='matplotlibProject.csv',\n",
        "delimiter=',')\n",
        "n_val=data[ : , 0 ]\n",
        "err_val=data[ : , 1]\n",
        "mem_val=data[ : , 2]\n",
        "time_val=data[ : , 3]"
      ],
      "metadata": {
        "id": "YpDJwS79FV5j"
      },
      "execution_count": 39,
      "outputs": []
    },
    {
      "cell_type": "code",
      "source": [],
      "metadata": {
        "id": "moGNMm-elZ3n"
      },
      "execution_count": null,
      "outputs": []
    }
  ]
}