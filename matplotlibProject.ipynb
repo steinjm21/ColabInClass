{
  "nbformat": 4,
  "nbformat_minor": 0,
  "metadata": {
    "colab": {
      "provenance": [],
      "authorship_tag": "ABX9TyND6eBlnk/PS0xZoxkyv2hM",
      "include_colab_link": true
    },
    "kernelspec": {
      "name": "python3",
      "display_name": "Python 3"
    },
    "language_info": {
      "name": "python"
    }
  },
  "cells": [
    {
      "cell_type": "markdown",
      "metadata": {
        "id": "view-in-github",
        "colab_type": "text"
      },
      "source": [
        "<a href=\"https://colab.research.google.com/github/steinjm21/ColabInClass/blob/main/matplotlibProject.ipynb\" target=\"_parent\"><img src=\"https://colab.research.google.com/assets/colab-badge.svg\" alt=\"Open In Colab\"/></a>"
      ]
    },
    {
      "cell_type": "code",
      "source": [
        "!git clone https://github.com/steinjm21/matplotlibProject.git"
      ],
      "metadata": {
        "colab": {
          "base_uri": "https://localhost:8080/"
        },
        "id": "P1jOd8w_BRtZ",
        "outputId": "79c4863d-0c95-496f-e59d-a5e0ae2683a0"
      },
      "execution_count": 46,
      "outputs": [
        {
          "output_type": "stream",
          "name": "stdout",
          "text": [
            "Cloning into 'matplotlibProject'...\n",
            "warning: You appear to have cloned an empty repository.\n"
          ]
        }
      ]
    },
    {
      "cell_type": "code",
      "execution_count": 47,
      "metadata": {
        "id": "yq8Kjsub_hRl"
      },
      "outputs": [],
      "source": [
        "import numpy as np\n",
        "import sys"
      ]
    },
    {
      "cell_type": "code",
      "source": [
        "def inside_circle(total_count):\n",
        "    x = np.random.uniform(size=total_count)\n",
        "    y = np.random.uniform(size=total_count)\n",
        "    radii = np.sqrt(x*x + y*y)\n",
        "    count = len(radii[np.where(radii<=1.0)])\n",
        "    return count"
      ],
      "metadata": {
        "id": "Q-t0hGHzAXYZ"
      },
      "execution_count": 48,
      "outputs": []
    },
    {
      "cell_type": "code",
      "source": [
        "def main():\n",
        "    n_samples = int(1000000)\n",
        "    counts = inside_circle(n_samples)\n",
        "    my_pi = 4.0 * counts / n_samples\n",
        "    size_of_float = np.dtype(np.float64).itemsize\n",
        "    memory_required = 3 * n_samples * size_of_float / (1024**3)\n",
        "    print(\"Pi: {}, memory: {} GiB\".format(my_pi, memory_required))"
      ],
      "metadata": {
        "id": "ObcC0a3AAZ04"
      },
      "execution_count": 49,
      "outputs": []
    },
    {
      "cell_type": "code",
      "source": [
        "if __name__ == '__main__':\n",
        "    main()"
      ],
      "metadata": {
        "colab": {
          "base_uri": "https://localhost:8080/"
        },
        "id": "ONc5zm7aBnKY",
        "outputId": "99b45a53-356c-4bfb-ec93-4b9837f1e6b2"
      },
      "execution_count": 50,
      "outputs": [
        {
          "output_type": "stream",
          "name": "stdout",
          "text": [
            "Pi: 3.14158, memory: 0.022351741790771484 GiB\n"
          ]
        }
      ]
    },
    {
      "cell_type": "code",
      "source": [],
      "metadata": {
        "id": "YpDJwS79FV5j"
      },
      "execution_count": null,
      "outputs": []
    }
  ]
}