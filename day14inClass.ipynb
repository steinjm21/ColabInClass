{
  "nbformat": 4,
  "nbformat_minor": 0,
  "metadata": {
    "colab": {
      "provenance": [],
      "authorship_tag": "ABX9TyNDF8dhMOgJ4BI3XZLHDnGT",
      "include_colab_link": true
    },
    "kernelspec": {
      "name": "python3",
      "display_name": "Python 3"
    },
    "language_info": {
      "name": "python"
    }
  },
  "cells": [
    {
      "cell_type": "markdown",
      "metadata": {
        "id": "view-in-github",
        "colab_type": "text"
      },
      "source": [
        "<a href=\"https://colab.research.google.com/github/steinjm21/ColabInClass/blob/main/day14inClass.ipynb\" target=\"_parent\"><img src=\"https://colab.research.google.com/assets/colab-badge.svg\" alt=\"Open In Colab\"/></a>"
      ]
    },
    {
      "cell_type": "code",
      "execution_count": 1,
      "metadata": {
        "colab": {
          "base_uri": "https://localhost:8080/"
        },
        "id": "MxhgBouqxbUa",
        "outputId": "4cfb9a22-7d9c-48be-bc66-ae1dbf1a1c55"
      },
      "outputs": [
        {
          "output_type": "stream",
          "name": "stdout",
          "text": [
            "Cloning into 'ColabInClass'...\n",
            "remote: Enumerating objects: 16, done.\u001b[K\n",
            "remote: Counting objects: 100% (16/16), done.\u001b[K\n",
            "remote: Compressing objects: 100% (14/14), done.\u001b[K\n",
            "remote: Total 16 (delta 3), reused 0 (delta 0), pack-reused 0 (from 0)\u001b[K\n",
            "Receiving objects: 100% (16/16), 26.23 KiB | 5.25 MiB/s, done.\n",
            "Resolving deltas: 100% (3/3), done.\n"
          ]
        }
      ],
      "source": [
        "!git clone https://github.com/steinjm21/ColabInClass.git"
      ]
    },
    {
      "cell_type": "code",
      "source": [
        "%cd ColabInClass/"
      ],
      "metadata": {
        "colab": {
          "base_uri": "https://localhost:8080/"
        },
        "id": "E4wQev_mxtek",
        "outputId": "927ab030-4c34-45d2-e9cb-e62bf221b047"
      },
      "execution_count": 2,
      "outputs": [
        {
          "output_type": "stream",
          "name": "stdout",
          "text": [
            "/content/ColabInClass\n"
          ]
        }
      ]
    },
    {
      "cell_type": "code",
      "source": [
        "!ls"
      ],
      "metadata": {
        "colab": {
          "base_uri": "https://localhost:8080/"
        },
        "id": "GYoRUy5tyAMx",
        "outputId": "c1d2a301-eafa-426a-e6a3-54007e58cb2d"
      },
      "execution_count": 3,
      "outputs": [
        {
          "output_type": "stream",
          "name": "stdout",
          "text": [
            "inclass.ipynb  new  python-novice-inflammation-code.zip  python-novice-inflammation-data.zip\n"
          ]
        }
      ]
    },
    {
      "cell_type": "code",
      "source": [
        "!unzip python-novice-inflammation-code.zip"
      ],
      "metadata": {
        "colab": {
          "base_uri": "https://localhost:8080/"
        },
        "id": "cKZoTaWuyBeZ",
        "outputId": "710f723d-9f27-4584-f484-0a70e9129479"
      },
      "execution_count": 4,
      "outputs": [
        {
          "output_type": "stream",
          "name": "stdout",
          "text": [
            "Archive:  python-novice-inflammation-code.zip\n",
            "  inflating: code/argv_list.py       \n",
            "  inflating: code/arith.py           \n",
            "  inflating: code/check.py           \n",
            "  inflating: code/count_stdin.py     \n",
            "  inflating: code/gen_inflammation.py  \n",
            "  inflating: code/line_count.py      \n",
            "  inflating: code/my_ls.py           \n",
            "  inflating: code/readings_01.py     \n",
            "  inflating: code/readings_02.py     \n",
            "  inflating: code/readings_03.py     \n",
            "  inflating: code/readings_04.py     \n",
            "  inflating: code/readings_05.py     \n",
            "  inflating: code/readings_06.py     \n",
            "  inflating: code/readings_07.py     \n",
            "  inflating: code/readings_08.py     \n",
            "  inflating: code/readings_09.py     \n",
            "  inflating: code/rectangle.py       \n",
            "  inflating: code/sys_version.py     \n"
          ]
        }
      ]
    },
    {
      "cell_type": "code",
      "source": [
        "!ls"
      ],
      "metadata": {
        "colab": {
          "base_uri": "https://localhost:8080/"
        },
        "id": "QLxhSiZRySAe",
        "outputId": "edf3c150-adef-45b6-e6b7-4d53bd31f312"
      },
      "execution_count": 5,
      "outputs": [
        {
          "output_type": "stream",
          "name": "stdout",
          "text": [
            "code  inclass.ipynb  new  python-novice-inflammation-code.zip  python-novice-inflammation-data.zip\n"
          ]
        }
      ]
    },
    {
      "cell_type": "code",
      "source": [
        "! ls -F"
      ],
      "metadata": {
        "colab": {
          "base_uri": "https://localhost:8080/"
        },
        "id": "YyqiiPs5yTvS",
        "outputId": "623e9a8a-3d2e-445f-ab79-aa87bf0e3bbf"
      },
      "execution_count": 6,
      "outputs": [
        {
          "output_type": "stream",
          "name": "stdout",
          "text": [
            "code/  inclass.ipynb  new  python-novice-inflammation-code.zip\tpython-novice-inflammation-data.zip\n"
          ]
        }
      ]
    },
    {
      "cell_type": "code",
      "source": [
        "!unzip python-novice-inflammation-data.zip"
      ],
      "metadata": {
        "colab": {
          "base_uri": "https://localhost:8080/"
        },
        "id": "_kge-RJUyr1a",
        "outputId": "525abc76-1f5c-43cd-fdca-e38b6af2a684"
      },
      "execution_count": 7,
      "outputs": [
        {
          "output_type": "stream",
          "name": "stdout",
          "text": [
            "Archive:  python-novice-inflammation-data.zip\n",
            "   creating: data/\n",
            "  inflating: data/inflammation-01.csv  \n",
            "  inflating: data/inflammation-02.csv  \n",
            "  inflating: data/inflammation-03.csv  \n",
            "  inflating: data/inflammation-04.csv  \n",
            "  inflating: data/inflammation-05.csv  \n",
            "  inflating: data/inflammation-06.csv  \n",
            "  inflating: data/inflammation-07.csv  \n",
            "  inflating: data/inflammation-08.csv  \n",
            "  inflating: data/inflammation-09.csv  \n",
            "  inflating: data/inflammation-10.csv  \n",
            "  inflating: data/inflammation-11.csv  \n",
            "  inflating: data/inflammation-12.csv  \n",
            " extracting: data/small-01.csv       \n",
            " extracting: data/small-02.csv       \n",
            " extracting: data/small-03.csv       \n"
          ]
        }
      ]
    },
    {
      "cell_type": "code",
      "source": [
        "!pwd"
      ],
      "metadata": {
        "colab": {
          "base_uri": "https://localhost:8080/"
        },
        "id": "4mzmIjzNyvrw",
        "outputId": "4eb524c0-d58c-4647-aec0-fd61752c68c4"
      },
      "execution_count": 8,
      "outputs": [
        {
          "output_type": "stream",
          "name": "stdout",
          "text": [
            "/content/ColabInClass\n"
          ]
        }
      ]
    },
    {
      "cell_type": "code",
      "source": [
        "import numpy"
      ],
      "metadata": {
        "id": "laDbM6Apy_R_"
      },
      "execution_count": 9,
      "outputs": []
    },
    {
      "cell_type": "code",
      "source": [
        "numpy.loadtxt(fname='data/inflammation-01.csv',delimiter=',')"
      ],
      "metadata": {
        "colab": {
          "base_uri": "https://localhost:8080/"
        },
        "id": "5I-I2FQuzW__",
        "outputId": "4b6ec4a9-206a-495c-e7dc-3bd65ee3db6d"
      },
      "execution_count": 14,
      "outputs": [
        {
          "output_type": "execute_result",
          "data": {
            "text/plain": [
              "array([[0., 0., 1., ..., 3., 0., 0.],\n",
              "       [0., 1., 2., ..., 1., 0., 1.],\n",
              "       [0., 1., 1., ..., 2., 1., 1.],\n",
              "       ...,\n",
              "       [0., 1., 1., ..., 1., 1., 1.],\n",
              "       [0., 0., 0., ..., 0., 2., 0.],\n",
              "       [0., 0., 1., ..., 1., 1., 0.]])"
            ]
          },
          "metadata": {},
          "execution_count": 14
        }
      ]
    },
    {
      "cell_type": "code",
      "source": [
        "data = numpy.loadtxt(fname='data/inflammation-01.csv', delimiter=',')"
      ],
      "metadata": {
        "id": "NGWdw9RvztoD"
      },
      "execution_count": 15,
      "outputs": []
    },
    {
      "cell_type": "code",
      "source": [
        "print(data)"
      ],
      "metadata": {
        "colab": {
          "base_uri": "https://localhost:8080/"
        },
        "id": "wwnW8cMkz7MM",
        "outputId": "7e727e0a-bf45-4747-d1c2-de3680d4ff0f"
      },
      "execution_count": 16,
      "outputs": [
        {
          "output_type": "stream",
          "name": "stdout",
          "text": [
            "[[0. 0. 1. ... 3. 0. 0.]\n",
            " [0. 1. 2. ... 1. 0. 1.]\n",
            " [0. 1. 1. ... 2. 1. 1.]\n",
            " ...\n",
            " [0. 1. 1. ... 1. 1. 1.]\n",
            " [0. 0. 0. ... 0. 2. 0.]\n",
            " [0. 0. 1. ... 1. 1. 0.]]\n"
          ]
        }
      ]
    },
    {
      "cell_type": "code",
      "source": [
        "import matplotlib.pyplot\n",
        "image = matplotlib.pyplot.imshow(data)\n",
        "matplotlib.pyplot.show()"
      ],
      "metadata": {
        "colab": {
          "base_uri": "https://localhost:8080/",
          "height": 432
        },
        "id": "gLlUUMCXz-dP",
        "outputId": "dce8626c-b945-4a98-e715-c4d7e1cacc84"
      },
      "execution_count": 17,
      "outputs": [
        {
          "output_type": "display_data",
          "data": {
            "text/plain": [
              "<Figure size 640x480 with 1 Axes>"
            ],
            "image/png": "[encoded data removed]"
          },
          "metadata": {}
        }
      ]
    },
    {
      "cell_type": "code",
      "source": [],
      "metadata": {
        "id": "17fRP4re0CCa"
      },
      "execution_count": null,
      "outputs": []
    }
  ]
}